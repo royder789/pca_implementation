{
 "cells": [
  {
   "cell_type": "code",
   "execution_count": 2,
   "id": "4074a643-9cc1-4efa-875e-d7a0a38b791c",
   "metadata": {},
   "outputs": [
    {
     "name": "stdout",
     "output_type": "stream",
     "text": [
      "Downloading data from https://storage.googleapis.com/tensorflow/tf-keras-datasets/mnist.npz\n",
      "11490434/11490434 [==============================] - 3s 0us/step\n",
      "x_train shape: (60000, 28, 28)\n",
      "y_train shape: (60000,)\n",
      "x_test shape: (10000, 28, 28)\n",
      "y_test shape: (10000,)\n"
     ]
    }
   ],
   "source": [
    "from keras.datasets import mnist\n",
    "\n",
    "# Load the dataset\n",
    "(x_train, y_train), (x_test, y_test) = mnist.load_data()\n",
    "\n",
    "# Verify the shape of the data\n",
    "print(f\"x_train shape: {x_train.shape}\")\n",
    "print(f\"y_train shape: {y_train.shape}\")\n",
    "print(f\"x_test shape: {x_test.shape}\")\n",
    "print(f\"y_test shape: {y_test.shape}\")\n"
   ]
  },
  {
   "cell_type": "code",
   "execution_count": 7,
   "id": "be277447-1a61-4db4-8769-bab30db0d71f",
   "metadata": {},
   "outputs": [
    {
     "data": {
      "text/plain": [
       "<matplotlib.image.AxesImage at 0x1df3a74a688>"
      ]
     },
     "execution_count": 7,
     "metadata": {},
     "output_type": "execute_result"
    },
    {
     "data": {
      "image/png": "[encoded data removed]",
      "text/plain": [
       "<Figure size 640x480 with 1 Axes>"
      ]
     },
     "metadata": {},
     "output_type": "display_data"
    }
   ],
   "source": [
    "import matplotlib.pyplot as plt\n",
    "plt.imshow(x_test[90],cmap=\"gray\")\n"
   ]
  },
  {
   "cell_type": "code",
   "execution_count": 13,
   "id": "061973af-4259-43e8-90a7-27da5f3ec1c5",
   "metadata": {},
   "outputs": [],
   "source": [
    "y_test[90]\n",
    "x=x_test.reshape(-1,28*28)\n",
    "y=y_test\n"
   ]
  },
  {
   "cell_type": "markdown",
   "id": "30eefbc0-b936-4361-97e2-06baa968226a",
   "metadata": {},
   "source": [
    "PREPROCESSING"
   ]
  },
  {
   "cell_type": "code",
   "execution_count": 23,
   "id": "de84024b-75eb-40b0-98bb-86045bfb92d5",
   "metadata": {},
   "outputs": [
    {
     "data": {
      "text/plain": [
       "<matplotlib.image.AxesImage at 0x1df3ca1dbc8>"
      ]
     },
     "execution_count": 23,
     "metadata": {},
     "output_type": "execute_result"
    },
    {
     "data": {
      "image/png": "[encoded data removed]",
      "text/plain": [
       "<Figure size 640x480 with 1 Axes>"
      ]
     },
     "metadata": {},
     "output_type": "display_data"
    }
   ],
   "source": [
    "\n",
    "from sklearn.preprocessing import StandardScaler\n",
    "sc=StandardScaler()\n",
    "x_=sc.fit_transform(x)\n",
    "x_.shape\n",
    "\n",
    "plt.imshow(x_[90].reshape(28,28),cmap=\"gray\")\n"
   ]
  },
  {
   "cell_type": "code",
   "execution_count": 14,
   "id": "d075cb69-9441-452e-9bcd-ff353426ae53",
   "metadata": {},
   "outputs": [
    {
     "ename": "SyntaxError",
     "evalue": "invalid syntax (1851670927.py, line 1)",
     "output_type": "error",
     "traceback": [
      "\u001b[1;36m  File \u001b[1;32m\"C:\\Users\\royku\\AppData\\Local\\Temp\\ipykernel_26348\\1851670927.py\"\u001b[1;36m, line \u001b[1;32m1\u001b[0m\n\u001b[1;33m    SKLEARN PCA\u001b[0m\n\u001b[1;37m              ^\u001b[0m\n\u001b[1;31mSyntaxError\u001b[0m\u001b[1;31m:\u001b[0m invalid syntax\n"
     ]
    }
   ],
   "source": [
    "\n",
    "SKLEARN PCA\n"
   ]
  },
  {
   "cell_type": "code",
   "execution_count": 15,
   "id": "bfdf2752-b724-45dd-ab3f-0e71a1d70a87",
   "metadata": {},
   "outputs": [],
   "source": [
    "from sklearn.decomposition import PCA"
   ]
  },
  {
   "cell_type": "code",
   "execution_count": 16,
   "id": "aeacde9b-a1e8-48fd-9ad3-61a66bc2f1b6",
   "metadata": {},
   "outputs": [],
   "source": [
    "pca=PCA(n_components=2)\n"
   ]
  },
  {
   "cell_type": "code",
   "execution_count": 20,
   "id": "2a736abb-28d7-43fb-880e-1fd864cef829",
   "metadata": {},
   "outputs": [],
   "source": [
    "z_pca=pca.fit_transform(x_)"
   ]
  },
  {
   "cell_type": "code",
   "execution_count": 24,
   "id": "6b292ff3-2d86-45bb-a887-ec23965c23ad",
   "metadata": {},
   "outputs": [
    {
     "data": {
      "text/plain": [
       "(10000, 2)"
      ]
     },
     "execution_count": 24,
     "metadata": {},
     "output_type": "execute_result"
    }
   ],
   "source": [
    "z_pca.shape"
   ]
  },
  {
   "cell_type": "code",
   "execution_count": 26,
   "id": "760bc566-5049-438b-bb97-a1febcc89fa7",
   "metadata": {},
   "outputs": [
    {
     "data": {
      "text/plain": [
       "array([41.39893397, 28.35105786])"
      ]
     },
     "execution_count": 26,
     "metadata": {},
     "output_type": "execute_result"
    }
   ],
   "source": [
    "pca.explained_variance_\n",
    "#explaining variance of original data has 70 % data"
   ]
  },
  {
   "cell_type": "markdown",
   "id": "a296f18c-d93d-41f4-921a-5c4c3e9cde72",
   "metadata": {},
   "source": [
    "Custom PCA"
   ]
  },
  {
   "cell_type": "code",
   "execution_count": 27,
   "id": "e15af823-c83c-47a7-a9a5-dc2181d3e8e1",
   "metadata": {},
   "outputs": [
    {
     "data": {
      "text/plain": [
       "(784, 784)"
      ]
     },
     "execution_count": 27,
     "metadata": {},
     "output_type": "execute_result"
    }
   ],
   "source": [
    "import numpy as np\n",
    "#step 2 compute covariance matrix\n",
    "covar=np.dot(x_.T,x_)\n",
    "covar.shape"
   ]
  },
  {
   "cell_type": "code",
   "execution_count": 29,
   "id": "c026ffeb-ec34-4a2b-9572-8f07b290727d",
   "metadata": {},
   "outputs": [],
   "source": [
    "#step 3 compute eigen vector using svd\n",
    "\n",
    "from numpy.linalg import svd\n",
    "\n"
   ]
  },
  {
   "cell_type": "code",
   "execution_count": 30,
   "id": "3d845df3-666e-4c7b-9b80-c37ce2cd098e",
   "metadata": {},
   "outputs": [
    {
     "data": {
      "text/plain": [
       "(784, 784)"
      ]
     },
     "execution_count": 30,
     "metadata": {},
     "output_type": "execute_result"
    }
   ],
   "source": [
    "U,S,V=svd(covar)\n",
    "U.shape"
   ]
  },
  {
   "cell_type": "code",
   "execution_count": 31,
   "id": "70f6f852-a931-4398-a781-33d640bc26eb",
   "metadata": {},
   "outputs": [
    {
     "data": {
      "text/plain": [
       "(784, 2)"
      ]
     },
     "execution_count": 31,
     "metadata": {},
     "output_type": "execute_result"
    }
   ],
   "source": [
    "Ured=U[:,:2]\n",
    "Ured.shape"
   ]
  },
  {
   "cell_type": "code",
   "execution_count": 32,
   "id": "a59eafed-591e-4e6b-b23f-032956701c7e",
   "metadata": {},
   "outputs": [
    {
     "data": {
      "text/plain": [
       "(10000, 2)"
      ]
     },
     "execution_count": 32,
     "metadata": {},
     "output_type": "execute_result"
    }
   ],
   "source": [
    "#projection on neew axis\n",
    "\n",
    "z=np.dot(x_,Ured)\n",
    "\n",
    "z.shape\n"
   ]
  },
  {
   "cell_type": "code",
   "execution_count": 33,
   "id": "e7b7a21b-5904-4786-8f86-86733b37ba5d",
   "metadata": {},
   "outputs": [
    {
     "data": {
      "text/plain": [
       "array([[  5.45831116,  -6.41400668],\n",
       "       [ -2.80443233,   8.02885014],\n",
       "       [  7.41124146,   3.86404387],\n",
       "       ...,\n",
       "       [  5.00435204,  -1.15364641],\n",
       "       [  1.42085442,   4.42308066],\n",
       "       [-13.14268302,   4.26280299]])"
      ]
     },
     "execution_count": 33,
     "metadata": {},
     "output_type": "execute_result"
    }
   ],
   "source": [
    "z"
   ]
  },
  {
   "cell_type": "markdown",
   "id": "21d5c8a9-a267-4923-a83c-f9a7aef5b5a0",
   "metadata": {},
   "source": [
    "VISULAIZATION"
   ]
  },
  {
   "cell_type": "code",
   "execution_count": null,
   "id": "23c37d19-c832-4676-ba3a-e512c7dffcca",
   "metadata": {},
   "outputs": [],
   "source": [
    "import pandas as pd\n",
    "np.hstack((z,y.reshape(-1,1)))\n",
    "dataframe=pd.DataFrame(new)"
   ]
  }
 ],
 "metadata": {
  "kernelspec": {
   "display_name": "Python 3 (py3-TF2.0)",
   "language": "python",
   "name": "py3-tf2.0"
  },
  "language_info": {
   "codemirror_mode": {
    "name": "ipython",
    "version": 3
   },
   "file_extension": ".py",
   "mimetype": "text/x-python",
   "name": "python",
   "nbconvert_exporter": "python",
   "pygments_lexer": "ipython3",
   "version": "3.7.16"
  }
 },
 "nbformat": 4,
 "nbformat_minor": 5
}
